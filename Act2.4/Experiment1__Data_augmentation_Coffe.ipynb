{
  "cells": [
    {
      "cell_type": "markdown",
      "metadata": {
        "id": "view-in-github",
        "colab_type": "text"
      },
      "source": [
        "<a href=\"https://colab.research.google.com/github/Mawrobnew/TC3002B/blob/main/Experiment1__Data_augmentation_Coffe.ipynb\" target=\"_parent\"><img src=\"https://colab.research.google.com/assets/colab-badge.svg\" alt=\"Open In Colab\"/></a>"
      ]
    },
    {
      "cell_type": "markdown",
      "source": [
        "# **Data augmentation coffe**\n",
        "En este proyecto, se desarrollará un modelo de red neuronal convolucional para realizar una clasificación binaria con el objetivo de distinguir entre dos tipos de café: espresso (café extraído en estado puro del grano) y longblack (café expreso mezclado con agua caliente). Para este propósito, se utilizará un dataset creado por \"Philippe - Kangaroo.AI\", que consta de 400 imágenes recortadas en una proporción de 1:1 y con un tamaño de 256x256 píxeles.\n",
        "\n",
        "Además, se usarán como referencia dos repositorios adicionales donde se ha llevado a cabo esta misma clasificación binaria utilizando el mencionado dataset, lo que proporcionará recursos valiosos para el desarrollo del proyecto."
      ],
      "metadata": {
        "id": "adA76yx2gAS3"
      }
    },
    {
      "cell_type": "code",
      "execution_count": null,
      "metadata": {
        "id": "8wJYdVsfYO4G",
        "colab": {
          "base_uri": "https://localhost:8080/"
        },
        "outputId": "53ff0100-d0e8-44fa-d12f-f59c4a5207ef"
      },
      "outputs": [
        {
          "output_type": "stream",
          "name": "stdout",
          "text": [
            "Drive already mounted at /content/drive; to attempt to forcibly remount, call drive.mount(\"/content/drive\", force_remount=True).\n"
          ]
        }
      ],
      "source": [
        "from google.colab import drive\n",
        "drive.mount('/content/drive')\n"
      ]
    },
    {
      "cell_type": "code",
      "source": [
        "%cd \"/content/drive/MyDrive/Universidad 8vo semestre/Desarrollo de aplicaciones avanzadas de ciencias computacionales /M2/Actividad2.1\"\n",
        "!ls"
      ],
      "metadata": {
        "colab": {
          "base_uri": "https://localhost:8080/"
        },
        "id": "FtxCm5DvkYkB",
        "outputId": "3f3593ff-c749-496a-df5f-c6dbd21f121c"
      },
      "execution_count": null,
      "outputs": [
        {
          "output_type": "stream",
          "name": "stdout",
          "text": [
            "/content/drive/MyDrive/Universidad 8vo semestre/Desarrollo de aplicaciones avanzadas de ciencias computacionales /M2/Actividad2.1\n",
            " augmented\n",
            " Data_augmentation_Coffe.ipynb\n",
            "'Experiment1_ Data_augmentation_Coffe.ipynb'\n",
            " Experiment2_Data_augmentation_Coffe.ipynb\n",
            " images\n"
          ]
        }
      ]
    },
    {
      "cell_type": "markdown",
      "source": [
        "# Modificaciones de imágenes\n",
        "\n",
        "ImageDataGenerator es una clase en la biblioteca Keras de Python que se utiliza para generar imágenes en tiempo real durante el entrenamiento. ImageDataGenerator permite realizar transformaciones de las imágenes de entrada para aumentar la diversidad de los datos de entrenamiento.\n",
        "\n",
        "Las transformaciones utilizadas para este proyecto fueron la reescala de los valores, rango de ángulos, rango de desplazamiento, cortes aleatorios y zoom. Esto se definió así para tener una mayor variedad en las imágenes.\n",
        "\n"
      ],
      "metadata": {
        "id": "RyRpvQCAj7aI"
      }
    },
    {
      "cell_type": "code",
      "execution_count": null,
      "metadata": {
        "id": "Z5bsMefaTK9A"
      },
      "outputs": [],
      "source": [
        "import matplotlib.pyplot as plt\n",
        "import numpy as np\n",
        "import pandas as pd\n",
        "import seaborn as sns\n",
        "import os\n",
        "import tensorflow as tf\n",
        "from tensorflow.keras.preprocessing.image import ImageDataGenerator\n",
        "\n",
        "\n",
        "path = \"/content/drive/MyDrive/Universidad 8vo semestre/Desarrollo de aplicaciones avanzadas de ciencias computacionales /M2/Actividad2.1\"\n",
        "\n",
        "base_dir = 'images'\n",
        "train_dir = os.path.join(base_dir,'train')\n",
        "validation_dir = os.path.join(base_dir, 'validation')\n",
        "test_dir = os.path.join(base_dir, 'test')\n",
        "\n",
        "#Train\n",
        "#Modificaciones de la imagen\n",
        "#Configura el ImageDataGenerator para realizar modificaciones en las imágenes de entrnamiento.\n",
        "#Rescale: Rescala los valores de los píxeles de la imagen a un rango de 0 a 1\n",
        "#Rotation_range: Rango de ángulos en grados para rotar aleatoriamente las imágenes\n",
        "#Width/height: Rangos para desplazar aleatoriamente horizontalmente y verticalmente imágenes\n",
        "#Shear_range: Rango para aplicar cortes aleatorios a las imágenes \n",
        "#Zoom_range: Rango para aplicar zoom aleatorio a las imágenes\n",
        "#Horizontal_flip: Voltea horizontalmente aleatoriamente las imágenes\n",
        "train_datagen = ImageDataGenerator(\n",
        "\t\t\t\t\t\t\trescale = 1./255,\n",
        "\t\t\t\t\t\t\trotation_range = 40,\n",
        "\t\t\t\t\t\t\twidth_shift_range = 0.2,\n",
        "\t\t\t\t\t\t\theight_shift_range = 0.2,\n",
        "\t\t\t\t\t\t\tshear_range = 0.3,\n",
        "\t\t\t\t\t\t\tzoom_range = 0.3,\n",
        "\t\t\t\t\t\t\thorizontal_flip = True,)\n",
        "\t\t\t\t\t\t\t\n",
        "#Reescala validation\n",
        "val_datagen = ImageDataGenerator(1./255) #Rescala los valores de los píxeles para que estén en rango de 0 a 1\n"
      ]
    },
    {
      "cell_type": "code",
      "source": [
        "#Genera un train\n",
        "train_generator = train_datagen.flow_from_directory(\n",
        "\t\t\t\t\t\t\ttrain_dir, #Directorio que contiene imágenes de entrenamiento\n",
        "\t\t\t\t\t\t\ttarget_size = (150, 150), #Tamaño al que se redimensionarán todas las imágenes del entrenamiento\n",
        "\t\t\t\t\t\t\tbatch_size = 15,  #Imágenes que se cargarán en cada lote durante el entrenamiento\n",
        "\t\t\t\t\t\t\tclass_mode ='binary', #Clasificación binaria\n",
        "\t\t\t\t\t\t\t)\n"
      ],
      "metadata": {
        "colab": {
          "base_uri": "https://localhost:8080/"
        },
        "id": "cUPHWziDorDe",
        "outputId": "5e8d28b3-91b4-4e37-e715-127fc759d18f"
      },
      "execution_count": null,
      "outputs": [
        {
          "output_type": "stream",
          "name": "stdout",
          "text": [
            "Found 228 images belonging to 2 classes.\n"
          ]
        }
      ]
    },
    {
      "cell_type": "code",
      "source": [
        "#Generando tu validation\n",
        "val_generator = val_datagen.flow_from_directory( #Vas a usar para entrenat dentro del entrenamiento\n",
        "\t\t\t\t\t\t\tvalidation_dir, #Direcotio que contiene las imágenes de validación\n",
        "\t\t\t\t\t\t\ttarget_size = (150,150), #Tamaño al que se redimensionarán todas las imágenes de validación\n",
        "\t\t\t\t\t\t\tbatch_size =15,  #Imágenes que se cargarán en cada lote durante el entrenamiento\n",
        "\t\t\t\t\t\t\tclass_mode= 'binary')  #Clasificación binaria\n"
      ],
      "metadata": {
        "colab": {
          "base_uri": "https://localhost:8080/"
        },
        "id": "2FPods7_AqdZ",
        "outputId": "a75eebfd-7a92-4194-9ba5-032b3c1591ef"
      },
      "execution_count": null,
      "outputs": [
        {
          "output_type": "stream",
          "name": "stdout",
          "text": [
            "Found 70 images belonging to 2 classes.\n"
          ]
        }
      ]
    },
    {
      "cell_type": "markdown",
      "source": [
        "# Red neuronal \n"
      ],
      "metadata": {
        "id": "wMwqSHLU-eKG"
      }
    },
    {
      "cell_type": "code",
      "source": [
        "from tensorflow.keras import models\n",
        "from tensorflow.keras import layers\n",
        "from tensorflow.keras.applications import VGG16 \n",
        "from tensorflow.keras.preprocessing.image import ImageDataGenerator\n",
        "from tensorflow.keras import optimizers\n",
        "\t\t\t\t\t\t\n",
        "#Carga modelo VGG16\n",
        "#Weights='imagenet' : Carga los pesos preentrenados en conjunto de datos ImageNet\n",
        "#include_top=False : No se incluyen las capas totalmente conectadas del modelo\n",
        "#input_shape=(150,150,3): Especifica la forma de entrada de las imágenes a la red.\n",
        "conv_base= VGG16(weights='imagenet', include_top = False, input_shape = (150,150,3))\n",
        "conv_base.trainable = False ## Not trainable weights\n",
        "\n",
        "\n",
        "#Se crea un modelo secuencial (Sequential) y se agrega la base convolucional de VGG16 como una capa\n",
        "model = models.Sequential()\n",
        "model.add(conv_base)\n",
        "#Capas adicionales al modelo para adaptarlo\n",
        "model.add(layers.Flatten()) #Mapa de características a un vector unidimensional\n",
        "model.add(layers.Dense(256,activation='relu'))\n",
        "model.add(layers.Dense(1,activation='sigmoid'))\n",
        "\n",
        "\n",
        "\n",
        "model.summary()\n",
        "\n",
        "#Se compila el modelo especificando la función de pérdida, el optimizador y las métricas a utilizar. \n",
        "#En este caso, se utiliza la función de pérdida 'binary_crossentropy', el optimizador RMSprop con una tasa de aprendizaje de 2e-5 y \n",
        "#se registra la precisión ('acc') como la métrica\n",
        "model.compile(loss='binary_crossentropy',\n",
        "\t\t\t\t\t\toptimizer=optimizers.RMSprop(learning_rate=1e-5),\n",
        "\t\t\t\t\t\tmetrics=['acc'])\n"
      ],
      "metadata": {
        "colab": {
          "base_uri": "https://localhost:8080/"
        },
        "id": "-Y2957UWm1Ka",
        "outputId": "aaec0d63-ac82-4054-8757-0343c74a711d"
      },
      "execution_count": null,
      "outputs": [
        {
          "output_type": "stream",
          "name": "stdout",
          "text": [
            "Model: \"sequential_2\"\n",
            "_________________________________________________________________\n",
            " Layer (type)                Output Shape              Param #   \n",
            "=================================================================\n",
            " vgg16 (Functional)          (None, 4, 4, 512)         14714688  \n",
            "                                                                 \n",
            " flatten_2 (Flatten)         (None, 8192)              0         \n",
            "                                                                 \n",
            " dense_4 (Dense)             (None, 256)               2097408   \n",
            "                                                                 \n",
            " dense_5 (Dense)             (None, 1)                 257       \n",
            "                                                                 \n",
            "=================================================================\n",
            "Total params: 16,812,353\n",
            "Trainable params: 2,097,665\n",
            "Non-trainable params: 14,714,688\n",
            "_________________________________________________________________\n"
          ]
        }
      ]
    },
    {
      "cell_type": "code",
      "execution_count": null,
      "metadata": {
        "colab": {
          "base_uri": "https://localhost:8080/",
          "height": 1000
        },
        "id": "saHPzD9MXeF6",
        "outputId": "94cfbddb-8741-40fd-9933-7f64d6dd6a6d"
      },
      "outputs": [
        {
          "output_type": "stream",
          "name": "stdout",
          "text": [
            "Epoch 1/20\n",
            "7/7 [==============================] - ETA: 0s - loss: 0.6802 - acc: 0.5619"
          ]
        },
        {
          "output_type": "stream",
          "name": "stderr",
          "text": [
            "/usr/local/lib/python3.10/dist-packages/keras/preprocessing/image.py:1861: UserWarning: This ImageDataGenerator specifies `featurewise_center`, but it hasn't been fit on any training data. Fit it first by calling `.fit(numpy_data)`.\n",
            "  warnings.warn(\n"
          ]
        },
        {
          "output_type": "stream",
          "name": "stdout",
          "text": [
            "\b\b\b\b\b\b\b\b\b\b\b\b\b\b\b\b\b\b\b\b\b\b\b\b\b\b\b\b\b\b\b\b\b\b\b\b\b\b\b\b\b\b\b\b\b\b\b\b\b\b\b\b\b\b\b\b\b\b\b\b\b\b\b\b\b\b\b\b\b\b\b\b\b\b\b\r7/7 [==============================] - 48s 7s/step - loss: 0.6802 - acc: 0.5619 - val_loss: 3.5509 - val_acc: 0.6571\n",
            "Epoch 2/20\n",
            "7/7 [==============================] - 44s 7s/step - loss: 0.6546 - acc: 0.5806 - val_loss: 2.9919 - val_acc: 0.6714\n",
            "Epoch 3/20\n",
            "7/7 [==============================] - 40s 6s/step - loss: 0.6394 - acc: 0.6344 - val_loss: 2.3492 - val_acc: 0.7000\n",
            "Epoch 4/20\n",
            "7/7 [==============================] - 40s 6s/step - loss: 0.6063 - acc: 0.6882 - val_loss: 2.1790 - val_acc: 0.7143\n",
            "Epoch 5/20\n",
            "7/7 [==============================] - 47s 7s/step - loss: 0.5894 - acc: 0.7905 - val_loss: 1.8637 - val_acc: 0.7571\n",
            "Epoch 6/20\n",
            "7/7 [==============================] - 47s 7s/step - loss: 0.6001 - acc: 0.7524 - val_loss: 1.7651 - val_acc: 0.7714\n",
            "Epoch 7/20\n",
            "7/7 [==============================] - 44s 6s/step - loss: 0.5826 - acc: 0.7742 - val_loss: 1.6064 - val_acc: 0.8286\n",
            "Epoch 8/20\n",
            "7/7 [==============================] - 47s 7s/step - loss: 0.5546 - acc: 0.7714 - val_loss: 1.5459 - val_acc: 0.8429\n",
            "Epoch 9/20\n",
            "7/7 [==============================] - 47s 7s/step - loss: 0.5394 - acc: 0.8190 - val_loss: 1.5122 - val_acc: 0.8571\n",
            "Epoch 10/20\n",
            "7/7 [==============================] - 42s 6s/step - loss: 0.5389 - acc: 0.8387 - val_loss: 1.4784 - val_acc: 0.8714\n",
            "Epoch 11/20\n",
            "7/7 [==============================] - 43s 7s/step - loss: 0.5365 - acc: 0.7957 - val_loss: 1.4433 - val_acc: 0.8571\n",
            "Epoch 12/20\n",
            "7/7 [==============================] - 43s 7s/step - loss: 0.4885 - acc: 0.8286 - val_loss: 1.4635 - val_acc: 0.8714\n",
            "Epoch 13/20\n",
            "7/7 [==============================] - 43s 7s/step - loss: 0.5094 - acc: 0.8065 - val_loss: 1.4685 - val_acc: 0.8714\n",
            "Epoch 14/20\n",
            "7/7 [==============================] - 46s 7s/step - loss: 0.5097 - acc: 0.7849 - val_loss: 1.4861 - val_acc: 0.8571\n",
            "Epoch 15/20\n",
            "7/7 [==============================] - 43s 7s/step - loss: 0.5004 - acc: 0.8000 - val_loss: 1.5314 - val_acc: 0.8571\n",
            "Epoch 16/20\n",
            "7/7 [==============================] - 47s 7s/step - loss: 0.5018 - acc: 0.7905 - val_loss: 1.5103 - val_acc: 0.8571\n",
            "Epoch 17/20\n",
            "7/7 [==============================] - 47s 7s/step - loss: 0.4410 - acc: 0.8571 - val_loss: 1.7412 - val_acc: 0.7857\n",
            "Epoch 18/20\n",
            "7/7 [==============================] - 44s 7s/step - loss: 0.4970 - acc: 0.7957 - val_loss: 1.6782 - val_acc: 0.8000\n",
            "Epoch 19/20\n",
            "7/7 [==============================] - 44s 7s/step - loss: 0.4359 - acc: 0.8387 - val_loss: 1.7689 - val_acc: 0.8000\n",
            "Epoch 20/20\n",
            "7/7 [==============================] - 43s 6s/step - loss: 0.4476 - acc: 0.8190 - val_loss: 1.7836 - val_acc: 0.7857\n"
          ]
        },
        {
          "output_type": "display_data",
          "data": {
            "text/plain": [
              "<Figure size 640x480 with 1 Axes>"
            ],
            "image/png": "[encoded data removed]"
          },
          "metadata": {}
        },
        {
          "output_type": "display_data",
          "data": {
            "text/plain": [
              "<Figure size 640x480 with 1 Axes>"
            ],
            "image/png": "[encoded data removed]"
          },
          "metadata": {}
        }
      ],
      "source": [
        "#El modelo se entrena utilizando los generadores de datos 'train_generator' y 'val_generator' \n",
        "#Aquí internamente dentro del mismo método de entrenamiento ambas pruebas. Estás ejecutando el train y el validation\n",
        "\n",
        "#método fit del modelo para iniciar el entrenamiento\n",
        "history = model.fit(\n",
        "\t\t\t\ttrain_generator,\n",
        "\t\t\t\tsteps_per_epoch =7,   #Número de pasos (batches) a considerar en cada época de entrenamiento. \n",
        "\t\t\t\tepochs =20, \n",
        "\t\t\t\tvalidation_data= val_generator, \n",
        "\t\t\t\tvalidation_steps = 5,  #El número de pasos (batches) a considerar en cada época de validación.\n",
        "\t\t\t\tvalidation_split = 0.2 #Fracción de datos de entrenamiento que utilizará como validación\n",
        "\t\t\t\t)\n",
        "\t\t\t\t\n",
        "#Métricas de precisión\n",
        "acc = history.history['acc']\n",
        "loss = history.history['loss']\n",
        "\n",
        "epochs = range(1, len(acc)+1)\n",
        "\n",
        "plt.plot(epochs,acc,'bo',label='train accuracy')\n",
        "plt.title('train acc')\n",
        "plt.legend()\n",
        "\n",
        "plt.figure()\n",
        "\n",
        "plt.plot(epochs,loss, 'bo', label ='training loss')\n",
        "plt.title('train loss')\n",
        "plt.legend()\n",
        "\n",
        "plt.show()"
      ]
    },
    {
      "cell_type": "code",
      "execution_count": null,
      "metadata": {
        "colab": {
          "base_uri": "https://localhost:8080/"
        },
        "id": "hSHeXVn246UW",
        "outputId": "879ec93c-d704-41ba-8dfc-0618e652839c"
      },
      "outputs": [
        {
          "output_type": "stream",
          "name": "stdout",
          "text": [
            "Found 44 images belonging to 2 classes.\n"
          ]
        },
        {
          "output_type": "stream",
          "name": "stderr",
          "text": [
            "/usr/local/lib/python3.10/dist-packages/keras/preprocessing/image.py:1861: UserWarning: This ImageDataGenerator specifies `featurewise_center`, but it hasn't been fit on any training data. Fit it first by calling `.fit(numpy_data)`.\n",
            "  warnings.warn(\n"
          ]
        },
        {
          "output_type": "stream",
          "name": "stdout",
          "text": [
            "\r 1/20 [>.............................] - ETA: 3:15 - loss: 1.3325 - acc: 0.9091"
          ]
        },
        {
          "output_type": "stream",
          "name": "stderr",
          "text": [
            "WARNING:tensorflow:Your input ran out of data; interrupting training. Make sure that your dataset or generator can generate at least `steps_per_epoch * epochs` batches (in this case, 20 batches). You may need to use the repeat() function when building your dataset.\n"
          ]
        },
        {
          "output_type": "stream",
          "name": "stdout",
          "text": [
            "\b\b\b\b\b\b\b\b\b\b\b\b\b\b\b\b\b\b\b\b\b\b\b\b\b\b\b\b\b\b\b\b\b\b\b\b\b\b\b\b\b\b\b\b\b\b\b\b\b\b\b\b\b\b\b\b\b\b\b\b\b\b\b\b\b\b\b\b\b\b\b\b\b\b\b\b\b\b\b\r20/20 [==============================] - 10s 2ms/step - loss: 1.3325 - acc: 0.9091\n",
            "\n",
            "test acc :\n",
            " 0.9090909361839294\n"
          ]
        }
      ],
      "source": [
        "#Evaluación del modelo utilizando un conjunto de datos de prueba\n",
        "test_datagen = ImageDataGenerator(1./255) #Reescala\n",
        "test_generator = test_datagen.flow_from_directory(\n",
        "\t\t\t\t\ttest_dir, #Directorio que contiene imágenes de prueba\n",
        "\t\t\t\t\ttarget_size = (150, 150), #Tamaño al que se redimensionarán\n",
        "\t\t\t\t\tbatch_size = 44, #El número de imágenes que se cargarán en cada lote durante la evaluación.\n",
        "\t\t\t\t\tclass_mode= 'binary')#Clase binaria\n",
        "\n",
        "#Método evaluate del modelo para evaluar el rendimiento en los datos de prueba\n",
        "test_loss, test_acc = model.evaluate(test_generator, steps = 20)\n",
        "print('\\ntest acc :\\n', test_acc)\n"
      ]
    },
    {
      "cell_type": "markdown",
      "source": [
        "# Matriz de confusión"
      ],
      "metadata": {
        "id": "G6P9MWoRCbqb"
      }
    },
    {
      "cell_type": "code",
      "source": [
        "from sklearn.metrics._plot.confusion_matrix import ConfusionMatrixDisplay\n",
        "from sklearn.metrics import confusion_matrix\n",
        "#Matriz de confusión\n",
        "test_imgs = test_generator[0][0] #Predicciones\n",
        "test_labels = test_generator[0][1] # Etiquetas \n",
        "\n",
        "\n",
        "print(test_imgs.shape) #(44,150,150,3) Hay 44 imágenes\n",
        "print(test_labels.shape) # (44,0) \n",
        "\n",
        "\n",
        "\n",
        "#print(test_imgs)"
      ],
      "metadata": {
        "colab": {
          "base_uri": "https://localhost:8080/"
        },
        "id": "rSskERDY78_g",
        "outputId": "d78aa594-9962-4111-db14-e95fe60576a0"
      },
      "execution_count": null,
      "outputs": [
        {
          "output_type": "stream",
          "name": "stdout",
          "text": [
            "(44, 150, 150, 3)\n",
            "(44,)\n"
          ]
        }
      ]
    },
    {
      "cell_type": "code",
      "source": [
        "#Obteniendo la predicción \n",
        "predictions = model.predict(test_imgs) # Devuelve la etiqueta aprendida para cada objeto en la matriz\n",
        "\n",
        "#print(predictions)\n",
        "classes_x = predictions.T\n",
        "classes_x= np.rint(classes_x)\n",
        "\n",
        "#print(classes_x)\n",
        "\n",
        "#Obtención de matriz de confusión\n",
        "                #True Label #Prediction\n",
        "cM=confusion_matrix(classes_x[0], test_labels)\n",
        "#print(cM)\n",
        "df= pd.DataFrame(cM,index=['Espresso','Longblack'],columns=['Espresso','Longblack'])\n",
        "plt.figure()\n",
        "sns.heatmap(df,annot=True)\n",
        "plt.title('Espresso vs Longblack')\n",
        "plt.ylabel('True label')\n",
        "plt.xlabel('Predicted label')\n",
        "#disp=ConfusionMatrixDisplay(cM)\n",
        "#disp.plot()\n",
        "plt.show()"
      ],
      "metadata": {
        "id": "9EBKQTCrCY4H",
        "colab": {
          "base_uri": "https://localhost:8080/",
          "height": 524
        },
        "outputId": "4dd2df92-8c71-4c90-e044-ba8c52f30536"
      },
      "execution_count": null,
      "outputs": [
        {
          "output_type": "stream",
          "name": "stdout",
          "text": [
            "2/2 [==============================] - 11s 3s/step\n",
            "[[20  2]\n",
            " [ 2 20]]\n"
          ]
        },
        {
          "output_type": "display_data",
          "data": {
            "text/plain": [
              "<Figure size 640x480 with 2 Axes>"
            ],
            "image/png": "[encoded data removed]"
          },
          "metadata": {}
        }
      ]
    },
    {
      "cell_type": "markdown",
      "source": [
        "# Referencias\n",
        "Referencias:\n",
        "PHILIPPE. (2021). Coffee images. Kaggle: Your Machine Learning and Data Science Community. https://www.kaggle.com/datasets/filhypedeeplearning/coffee-images\n",
        "\n",
        "stpeteishii. (2021, 16 de noviembre). Coffee Images Classify Torch Conv2d. Kaggle: Your Machine Learning and Data Science Community. https://www.kaggle.com/code/stpeteishii/coffee-images-classify-torch-conv2d\n",
        "\n",
        "filhypedeeplearning. (2021, 24 de noviembre). Espresso or Longblack? Kaggle: Your Machine Learning and Data Science Community. https://www.kaggle.com/code/filhypedeeplearning/espresso-or-longblack/input"
      ],
      "metadata": {
        "id": "WuD8vYAlkirk"
      }
    }
  ],
  "metadata": {
    "colab": {
      "provenance": [],
      "include_colab_link": true
    },
    "kernelspec": {
      "display_name": "Python 3",
      "name": "python3"
    },
    "language_info": {
      "name": "python"
    }
  },
  "nbformat": 4,
  "nbformat_minor": 0
}