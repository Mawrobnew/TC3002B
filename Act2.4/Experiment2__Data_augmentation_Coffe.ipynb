{
  "cells": [
    {
      "cell_type": "markdown",
      "metadata": {
        "id": "view-in-github",
        "colab_type": "text"
      },
      "source": [
        "<a href=\"https://colab.research.google.com/github/Mawrobnew/TC3002B/blob/main/Experiment2__Data_augmentation_Coffe.ipynb\" target=\"_parent\"><img src=\"https://colab.research.google.com/assets/colab-badge.svg\" alt=\"Open In Colab\"/></a>"
      ]
    },
    {
      "cell_type": "markdown",
      "source": [
        "# **Data augmentation coffe**\n",
        "En este proyecto, se desarrollará un modelo de red neuronal convolucional para realizar una clasificación binaria con el objetivo de distinguir entre dos tipos de café: espresso (café extraído en estado puro del grano) y longblack (café expreso mezclado con agua caliente). Para este propósito, se utilizará un dataset creado por \"Philippe - Kangaroo.AI\", que consta de 400 imágenes recortadas en una proporción de 1:1 y con un tamaño de 256x256 píxeles.\n",
        "\n",
        "Además, se usarán como referencia dos repositorios adicionales donde se ha llevado a cabo esta misma clasificación binaria utilizando el mencionado dataset, lo que proporcionará recursos valiosos para el desarrollo del proyecto."
      ],
      "metadata": {
        "id": "adA76yx2gAS3"
      }
    },
    {
      "cell_type": "code",
      "execution_count": null,
      "metadata": {
        "id": "8wJYdVsfYO4G",
        "colab": {
          "base_uri": "https://localhost:8080/"
        },
        "outputId": "26886487-c83a-4483-ea04-2073e668aaa9"
      },
      "outputs": [
        {
          "output_type": "stream",
          "name": "stdout",
          "text": [
            "Drive already mounted at /content/drive; to attempt to forcibly remount, call drive.mount(\"/content/drive\", force_remount=True).\n"
          ]
        }
      ],
      "source": [
        "from google.colab import drive\n",
        "drive.mount('/content/drive')\n"
      ]
    },
    {
      "cell_type": "code",
      "source": [
        "%cd \"/content/drive/MyDrive/Universidad 8vo semestre/Desarrollo de aplicaciones avanzadas de ciencias computacionales /M2/Actividad2.1\"\n",
        "!ls"
      ],
      "metadata": {
        "colab": {
          "base_uri": "https://localhost:8080/"
        },
        "id": "FtxCm5DvkYkB",
        "outputId": "aea7386a-5f91-4908-e025-d96c0e539fa1"
      },
      "execution_count": null,
      "outputs": [
        {
          "output_type": "stream",
          "name": "stdout",
          "text": [
            "/content/drive/MyDrive/Universidad 8vo semestre/Desarrollo de aplicaciones avanzadas de ciencias computacionales /M2/Actividad2.1\n",
            " augmented\n",
            " Base_Data_augmentation_Coffe.ipynb\n",
            "'Experiment1_ Data_augmentation_Coffe.ipynb'\n",
            "'Experiment2_ Data_augmentation_Coffe.ipynb'\n",
            " images\n"
          ]
        }
      ]
    },
    {
      "cell_type": "markdown",
      "source": [
        "# Modificaciones de imágenes\n",
        "\n",
        "ImageDataGenerator es una clase en la biblioteca Keras de Python que se utiliza para generar imágenes en tiempo real durante el entrenamiento. ImageDataGenerator permite realizar transformaciones de las imágenes de entrada para aumentar la diversidad de los datos de entrenamiento.\n",
        "\n",
        "Las transformaciones utilizadas para este proyecto fueron la reescala de los valores, rango de ángulos, rango de desplazamiento, cortes aleatorios y zoom. Esto se definió así para tener una mayor variedad en las imágenes.\n",
        "\n"
      ],
      "metadata": {
        "id": "RyRpvQCAj7aI"
      }
    },
    {
      "cell_type": "code",
      "execution_count": null,
      "metadata": {
        "id": "Z5bsMefaTK9A"
      },
      "outputs": [],
      "source": [
        "import matplotlib.pyplot as plt\n",
        "import numpy as np\n",
        "import pandas as pd\n",
        "import seaborn as sns\n",
        "import os\n",
        "import tensorflow as tf\n",
        "from tensorflow.keras.preprocessing.image import ImageDataGenerator\n",
        "\n",
        "\n",
        "path = \"/content/drive/MyDrive/Universidad 8vo semestre/Desarrollo de aplicaciones avanzadas de ciencias computacionales /M2/Actividad2.1\"\n",
        "\n",
        "base_dir = 'images'\n",
        "train_dir = os.path.join(base_dir,'train')\n",
        "validation_dir = os.path.join(base_dir, 'validation')\n",
        "test_dir = os.path.join(base_dir, 'test')\n",
        "\n",
        "#Train\n",
        "#Modificaciones de la imagen\n",
        "#Configura el ImageDataGenerator para realizar modificaciones en las imágenes de entrnamiento.\n",
        "#Rescale: Rescala los valores de los píxeles de la imagen a un rango de 0 a 1\n",
        "#Rotation_range: Rango de ángulos en grados para rotar aleatoriamente las imágenes\n",
        "#Width/height: Rangos para desplazar aleatoriamente horizontalmente y verticalmente imágenes\n",
        "#Shear_range: Rango para aplicar cortes aleatorios a las imágenes \n",
        "#Zoom_range: Rango para aplicar zoom aleatorio a las imágenes\n",
        "#Horizontal_flip: Voltea horizontalmente aleatoriamente las imágenes\n",
        "train_datagen = ImageDataGenerator(\n",
        "\t\t\t\t\t\t\trescale = 1./255,\n",
        "\t\t\t\t\t\t\trotation_range = 40,\n",
        "\t\t\t\t\t\t\twidth_shift_range = 0.2,\n",
        "\t\t\t\t\t\t\theight_shift_range = 0.2,\n",
        "\t\t\t\t\t\t\tshear_range = 0.3,\n",
        "\t\t\t\t\t\t\tzoom_range = 0.3,\n",
        "\t\t\t\t\t\t\thorizontal_flip = True,)\n",
        "\t\t\t\t\t\t\t\n",
        "#Reescala validation\n",
        "val_datagen = ImageDataGenerator(1./255) #Rescala los valores de los píxeles para que estén en rango de 0 a 1\n"
      ]
    },
    {
      "cell_type": "code",
      "source": [
        "#Genera un train\n",
        "train_generator = train_datagen.flow_from_directory(\n",
        "\t\t\t\t\t\t\ttrain_dir, #Directorio que contiene imágenes de entrenamiento\n",
        "\t\t\t\t\t\t\ttarget_size = (150, 150), #Tamaño al que se redimensionarán todas las imágenes del entrenamiento\n",
        "\t\t\t\t\t\t\tbatch_size = 15,  #Imágenes que se cargarán en cada lote durante el entrenamiento\n",
        "\t\t\t\t\t\t\tclass_mode ='binary', #Clasificación binaria\n",
        "\t\t\t\t\t\t\t)\n"
      ],
      "metadata": {
        "colab": {
          "base_uri": "https://localhost:8080/"
        },
        "id": "cUPHWziDorDe",
        "outputId": "68d8cad2-b23a-4404-ec47-b9219e0fb790"
      },
      "execution_count": null,
      "outputs": [
        {
          "output_type": "stream",
          "name": "stdout",
          "text": [
            "Found 228 images belonging to 2 classes.\n"
          ]
        }
      ]
    },
    {
      "cell_type": "code",
      "source": [
        "#Generando tu validation\n",
        "val_generator = val_datagen.flow_from_directory( #Vas a usar para entrenat dentro del entrenamiento\n",
        "\t\t\t\t\t\t\tvalidation_dir, #Direcotio que contiene las imágenes de validación\n",
        "\t\t\t\t\t\t\ttarget_size = (150,150), #Tamaño al que se redimensionarán todas las imágenes de validación\n",
        "\t\t\t\t\t\t\tbatch_size =15,  #Imágenes que se cargarán en cada lote durante el entrenamiento\n",
        "\t\t\t\t\t\t\tclass_mode= 'binary')  #Clasificación binaria\n"
      ],
      "metadata": {
        "colab": {
          "base_uri": "https://localhost:8080/"
        },
        "id": "2FPods7_AqdZ",
        "outputId": "83b1ae1a-307a-4aed-b3cd-5aaa881025ea"
      },
      "execution_count": null,
      "outputs": [
        {
          "output_type": "stream",
          "name": "stdout",
          "text": [
            "Found 70 images belonging to 2 classes.\n"
          ]
        }
      ]
    },
    {
      "cell_type": "markdown",
      "source": [
        "# Red neuronal \n"
      ],
      "metadata": {
        "id": "wMwqSHLU-eKG"
      }
    },
    {
      "cell_type": "code",
      "source": [
        "from tensorflow.keras import models\n",
        "from tensorflow.keras import layers\n",
        "from tensorflow.keras.applications import VGG16 \n",
        "from tensorflow.keras.preprocessing.image import ImageDataGenerator\n",
        "from tensorflow.keras import optimizers\n",
        "\t\t\t\t\t\t\n",
        "#Carga modelo VGG16\n",
        "#Weights='imagenet' : Carga los pesos preentrenados en conjunto de datos ImageNet\n",
        "#include_top=False : No se incluyen las capas totalmente conectadas del modelo\n",
        "#input_shape=(150,150,3): Especifica la forma de entrada de las imágenes a la red.\n",
        "conv_base= VGG16(weights='imagenet', include_top = False, input_shape = (150,150,3))\n",
        "conv_base.trainable = False ## Not trainable weights\n",
        "\n",
        "\n",
        "#Se crea un modelo secuencial (Sequential) y se agrega la base convolucional de VGG16 como una capa\n",
        "model = models.Sequential()\n",
        "model.add(conv_base)\n",
        "#Capas adicionales al modelo para adaptarlo\n",
        "model.add(layers.Flatten()) #Mapa de características a un vector unidimensional\n",
        "model.add(layers.Dense(256,activation='relu'))\n",
        "model.add(layers.Dense(1,activation='sigmoid'))\n",
        "\n",
        "\n",
        "\n",
        "model.summary()\n",
        "\n",
        "#Se compila el modelo especificando la función de pérdida, el optimizador y las métricas a utilizar. \n",
        "#En este caso, se utiliza la función de pérdida 'binary_crossentropy', el optimizador RMSprop con una tasa de aprendizaje de 2e-5 y \n",
        "#se registra la precisión ('acc') como la métrica\n",
        "model.compile(loss='binary_crossentropy',\n",
        "\t\t\t\t\t\toptimizer=optimizers.RMSprop(learning_rate=1e-5),\n",
        "\t\t\t\t\t\tmetrics=['acc'])\n"
      ],
      "metadata": {
        "colab": {
          "base_uri": "https://localhost:8080/"
        },
        "id": "-Y2957UWm1Ka",
        "outputId": "baaf0822-064e-434c-8b1d-07f0c00cf519"
      },
      "execution_count": null,
      "outputs": [
        {
          "output_type": "stream",
          "name": "stdout",
          "text": [
            "Model: \"sequential\"\n",
            "_________________________________________________________________\n",
            " Layer (type)                Output Shape              Param #   \n",
            "=================================================================\n",
            " vgg16 (Functional)          (None, 4, 4, 512)         14714688  \n",
            "                                                                 \n",
            " flatten (Flatten)           (None, 8192)              0         \n",
            "                                                                 \n",
            " dense (Dense)               (None, 256)               2097408   \n",
            "                                                                 \n",
            " dense_1 (Dense)             (None, 1)                 257       \n",
            "                                                                 \n",
            "=================================================================\n",
            "Total params: 16,812,353\n",
            "Trainable params: 2,097,665\n",
            "Non-trainable params: 14,714,688\n",
            "_________________________________________________________________\n"
          ]
        }
      ]
    },
    {
      "cell_type": "code",
      "execution_count": null,
      "metadata": {
        "colab": {
          "base_uri": "https://localhost:8080/",
          "height": 1000
        },
        "id": "saHPzD9MXeF6",
        "outputId": "e3f9eda6-b3a0-4ebd-9173-6077e6190f70"
      },
      "outputs": [
        {
          "output_type": "stream",
          "name": "stdout",
          "text": [
            "Epoch 1/25\n",
            "7/7 [==============================] - ETA: 0s - loss: 0.7190 - acc: 0.4946"
          ]
        },
        {
          "output_type": "stream",
          "name": "stderr",
          "text": [
            "/usr/local/lib/python3.10/dist-packages/keras/preprocessing/image.py:1861: UserWarning: This ImageDataGenerator specifies `featurewise_center`, but it hasn't been fit on any training data. Fit it first by calling `.fit(numpy_data)`.\n",
            "  warnings.warn(\n",
            "WARNING:tensorflow:Your input ran out of data; interrupting training. Make sure that your dataset or generator can generate at least `steps_per_epoch * epochs` batches (in this case, 6 batches). You may need to use the repeat() function when building your dataset.\n"
          ]
        },
        {
          "output_type": "stream",
          "name": "stdout",
          "text": [
            "\b\b\b\b\b\b\b\b\b\b\b\b\b\b\b\b\b\b\b\b\b\b\b\b\b\b\b\b\b\b\b\b\b\b\b\b\b\b\b\b\b\b\b\b\b\b\b\b\b\b\b\b\b\b\b\b\b\b\b\b\b\b\b\b\b\b\b\b\b\b\b\b\b\b\b\r7/7 [==============================] - 56s 7s/step - loss: 0.7190 - acc: 0.4946 - val_loss: 2.3609 - val_acc: 0.6714\n",
            "Epoch 2/25\n",
            "7/7 [==============================] - 28s 5s/step - loss: 0.6606 - acc: 0.5806\n",
            "Epoch 3/25\n",
            "7/7 [==============================] - 24s 3s/step - loss: 0.6716 - acc: 0.5914\n",
            "Epoch 4/25\n",
            "7/7 [==============================] - 25s 4s/step - loss: 0.6187 - acc: 0.7097\n",
            "Epoch 5/25\n",
            "7/7 [==============================] - 25s 4s/step - loss: 0.6049 - acc: 0.7204\n",
            "Epoch 6/25\n",
            "7/7 [==============================] - 30s 4s/step - loss: 0.5955 - acc: 0.7714\n",
            "Epoch 7/25\n",
            "7/7 [==============================] - 25s 3s/step - loss: 0.5917 - acc: 0.6882\n",
            "Epoch 8/25\n",
            "7/7 [==============================] - 29s 4s/step - loss: 0.5336 - acc: 0.8381\n",
            "Epoch 9/25\n",
            "7/7 [==============================] - 29s 4s/step - loss: 0.5518 - acc: 0.7810\n",
            "Epoch 10/25\n",
            "7/7 [==============================] - 27s 4s/step - loss: 0.5673 - acc: 0.7527\n",
            "Epoch 11/25\n",
            "7/7 [==============================] - 27s 4s/step - loss: 0.5452 - acc: 0.7849\n",
            "Epoch 12/25\n",
            "7/7 [==============================] - 25s 4s/step - loss: 0.5088 - acc: 0.8065\n",
            "Epoch 13/25\n",
            "7/7 [==============================] - 25s 4s/step - loss: 0.5468 - acc: 0.7634\n",
            "Epoch 14/25\n",
            "7/7 [==============================] - 31s 4s/step - loss: 0.5264 - acc: 0.7905\n",
            "Epoch 15/25\n",
            "7/7 [==============================] - 32s 4s/step - loss: 0.4800 - acc: 0.8476\n",
            "Epoch 16/25\n",
            "7/7 [==============================] - 33s 5s/step - loss: 0.4803 - acc: 0.8190\n",
            "Epoch 17/25\n",
            "7/7 [==============================] - 32s 4s/step - loss: 0.4985 - acc: 0.7619\n",
            "Epoch 18/25\n",
            "7/7 [==============================] - 31s 4s/step - loss: 0.4454 - acc: 0.8286\n",
            "Epoch 19/25\n",
            "7/7 [==============================] - 30s 4s/step - loss: 0.4426 - acc: 0.9048\n",
            "Epoch 20/25\n",
            "7/7 [==============================] - 30s 4s/step - loss: 0.4068 - acc: 0.9048\n",
            "Epoch 21/25\n",
            "7/7 [==============================] - 30s 4s/step - loss: 0.4375 - acc: 0.8476\n",
            "Epoch 22/25\n",
            "7/7 [==============================] - 30s 4s/step - loss: 0.4189 - acc: 0.8571\n",
            "Epoch 23/25\n",
            "7/7 [==============================] - 29s 4s/step - loss: 0.4406 - acc: 0.8667\n",
            "Epoch 24/25\n",
            "7/7 [==============================] - 29s 4s/step - loss: 0.4123 - acc: 0.8571\n",
            "Epoch 25/25\n",
            "7/7 [==============================] - 30s 4s/step - loss: 0.4036 - acc: 0.9238\n"
          ]
        },
        {
          "output_type": "display_data",
          "data": {
            "text/plain": [
              "<Figure size 640x480 with 1 Axes>"
            ],
            "image/png": "[encoded data removed]"
          },
          "metadata": {}
        },
        {
          "output_type": "display_data",
          "data": {
            "text/plain": [
              "<Figure size 640x480 with 1 Axes>"
            ],
            "image/png": "[encoded data removed]"
          },
          "metadata": {}
        }
      ],
      "source": [
        "#El modelo se entrena utilizando los generadores de datos 'train_generator' y 'val_generator' \n",
        "#Aquí internamente dentro del mismo método de entrenamiento ambas pruebas. Estás ejecutando el train y el validation\n",
        "\n",
        "#método fit del modelo para iniciar el entrenamiento\n",
        "history = model.fit(\n",
        "\t\t\t\ttrain_generator,\n",
        "\t\t\t\tsteps_per_epoch =7,   #Número de pasos (batches) a considerar en cada época de entrenamiento. \n",
        "\t\t\t\tepochs =25, \n",
        "\t\t\t\tvalidation_data= val_generator, \n",
        "\t\t\t\tvalidation_steps = 6,  #El número de pasos (batches) a considerar en cada época de validación.\n",
        "\t\t\t\tvalidation_split = 0.4 #Fracción de datos de entrenamiento que utilizará como validación\n",
        "\t\t\t\t)\n",
        "\t\t\t\t\n",
        "#Métricas de precisión\n",
        "acc = history.history['acc']\n",
        "loss = history.history['loss']\n",
        "\n",
        "epochs = range(1, len(acc)+1)\n",
        "\n",
        "plt.plot(epochs,acc,'bo',label='train accuracy')\n",
        "plt.title('train acc')\n",
        "plt.legend()\n",
        "\n",
        "plt.figure()\n",
        "\n",
        "plt.plot(epochs,loss, 'bo', label ='training loss')\n",
        "plt.title('train loss')\n",
        "plt.legend()\n",
        "\n",
        "plt.show()"
      ]
    },
    {
      "cell_type": "code",
      "execution_count": null,
      "metadata": {
        "colab": {
          "base_uri": "https://localhost:8080/"
        },
        "id": "hSHeXVn246UW",
        "outputId": "e7fee341-1626-4fc9-a53c-c6e4a2194f13"
      },
      "outputs": [
        {
          "output_type": "stream",
          "name": "stdout",
          "text": [
            "Found 44 images belonging to 2 classes.\n",
            " 1/20 [>.............................] - ETA: 4:03 - loss: 3.4413 - acc: 0.7500"
          ]
        },
        {
          "output_type": "stream",
          "name": "stderr",
          "text": [
            "WARNING:tensorflow:Your input ran out of data; interrupting training. Make sure that your dataset or generator can generate at least `steps_per_epoch * epochs` batches (in this case, 20 batches). You may need to use the repeat() function when building your dataset.\n"
          ]
        },
        {
          "output_type": "stream",
          "name": "stdout",
          "text": [
            "\b\b\b\b\b\b\b\b\b\b\b\b\b\b\b\b\b\b\b\b\b\b\b\b\b\b\b\b\b\b\b\b\b\b\b\b\b\b\b\b\b\b\b\b\b\b\b\b\b\b\b\b\b\b\b\b\b\b\b\b\b\b\b\b\b\b\b\b\b\b\b\b\b\b\b\b\b\b\b\r20/20 [==============================] - 13s 2ms/step - loss: 3.4413 - acc: 0.7500\n",
            "\n",
            "test acc :\n",
            " 0.75\n"
          ]
        }
      ],
      "source": [
        "#Evaluación del modelo utilizando un conjunto de datos de prueba\n",
        "test_datagen = ImageDataGenerator(1./255) #Reescala\n",
        "test_generator = test_datagen.flow_from_directory(\n",
        "\t\t\t\t\ttest_dir, #Directorio que contiene imágenes de prueba\n",
        "\t\t\t\t\ttarget_size = (150, 150), #Tamaño al que se redimensionarán\n",
        "\t\t\t\t\tbatch_size = 44, #El número de imágenes que se cargarán en cada lote durante la evaluación.\n",
        "\t\t\t\t\tclass_mode= 'binary')#Clase binaria\n",
        "\n",
        "#Método evaluate del modelo para evaluar el rendimiento en los datos de prueba\n",
        "test_loss, test_acc = model.evaluate(test_generator, steps = 20)\n",
        "print('\\ntest acc :\\n', test_acc)\n"
      ]
    },
    {
      "cell_type": "markdown",
      "source": [
        "# Matriz de confusión"
      ],
      "metadata": {
        "id": "G6P9MWoRCbqb"
      }
    },
    {
      "cell_type": "code",
      "source": [
        "from sklearn.metrics._plot.confusion_matrix import ConfusionMatrixDisplay\n",
        "from sklearn.metrics import confusion_matrix\n",
        "#Matriz de confusión\n",
        "test_imgs = test_generator[0][0] #Predicciones\n",
        "test_labels = test_generator[0][1] # Etiquetas \n",
        "\n",
        "\n",
        "print(test_imgs.shape) #(44,150,150,3) Hay 44 imágenes\n",
        "print(test_labels.shape) # (44,0) \n",
        "\n",
        "\n",
        "\n",
        "#print(test_imgs)"
      ],
      "metadata": {
        "colab": {
          "base_uri": "https://localhost:8080/"
        },
        "id": "rSskERDY78_g",
        "outputId": "670c24e9-e76f-412e-e968-2c7e5840ab8f"
      },
      "execution_count": null,
      "outputs": [
        {
          "output_type": "stream",
          "name": "stderr",
          "text": [
            "/usr/local/lib/python3.10/dist-packages/keras/preprocessing/image.py:1861: UserWarning: This ImageDataGenerator specifies `featurewise_center`, but it hasn't been fit on any training data. Fit it first by calling `.fit(numpy_data)`.\n",
            "  warnings.warn(\n"
          ]
        },
        {
          "output_type": "stream",
          "name": "stdout",
          "text": [
            "(44, 150, 150, 3)\n",
            "(44,)\n"
          ]
        }
      ]
    },
    {
      "cell_type": "code",
      "source": [
        "#Obteniendo la predicción \n",
        "predictions = model.predict(test_imgs) # Devuelve la etiqueta aprendida para cada objeto en la matriz\n",
        "\n",
        "classes_x = predictions.T\n",
        "classes_x= np.rint(classes_x)\n",
        "\n",
        "print(classes_x)\n",
        "#Obtención de matriz de confusión\n",
        "                #True Label #Prediction\n",
        "cM=confusion_matrix(classes_x[0], test_labels)\n",
        "\n",
        "\n",
        "df= pd.DataFrame(cM,index=['Espresso','Longblack'],columns=['Espresso','Longblack'])\n",
        "plt.figure()\n",
        "sns.heatmap(df,annot=True)\n",
        "plt.title('Espresso vs Longblack')\n",
        "plt.ylabel('True label')\n",
        "plt.xlabel('Predicted label')\n",
        "#disp=ConfusionMatrixDisplay(cM)\n",
        "#disp.plot()\n",
        "plt.show()"
      ],
      "metadata": {
        "id": "9EBKQTCrCY4H",
        "colab": {
          "base_uri": "https://localhost:8080/",
          "height": 524
        },
        "outputId": "df639f9b-b39a-4844-b8ab-0f86e0043051"
      },
      "execution_count": null,
      "outputs": [
        {
          "output_type": "stream",
          "name": "stdout",
          "text": [
            "2/2 [==============================] - 13s 5s/step\n",
            "[[1. 1. 1. 1. 1. 1. 1. 1. 0. 1. 1. 1. 1. 1. 1. 1. 1. 0. 1. 1. 0. 1. 0. 0.\n",
            "  0. 1. 0. 1. 0. 1. 0. 1. 0. 1. 1. 1. 0. 1. 1. 0. 1. 0. 1. 1.]]\n"
          ]
        },
        {
          "output_type": "display_data",
          "data": {
            "text/plain": [
              "<Figure size 640x480 with 2 Axes>"
            ],
            "image/png": "[encoded data removed]"
          },
          "metadata": {}
        }
      ]
    },
    {
      "cell_type": "markdown",
      "source": [
        "# Referencias\n",
        "Referencias:\n",
        "PHILIPPE. (2021). Coffee images. Kaggle: Your Machine Learning and Data Science Community. https://www.kaggle.com/datasets/filhypedeeplearning/coffee-images\n",
        "\n",
        "stpeteishii. (2021, 16 de noviembre). Coffee Images Classify Torch Conv2d. Kaggle: Your Machine Learning and Data Science Community. https://www.kaggle.com/code/stpeteishii/coffee-images-classify-torch-conv2d\n",
        "\n",
        "filhypedeeplearning. (2021, 24 de noviembre). Espresso or Longblack? Kaggle: Your Machine Learning and Data Science Community. https://www.kaggle.com/code/filhypedeeplearning/espresso-or-longblack/input"
      ],
      "metadata": {
        "id": "WuD8vYAlkirk"
      }
    }
  ],
  "metadata": {
    "colab": {
      "provenance": [],
      "include_colab_link": true
    },
    "kernelspec": {
      "display_name": "Python 3",
      "name": "python3"
    },
    "language_info": {
      "name": "python"
    }
  },
  "nbformat": 4,
  "nbformat_minor": 0
}