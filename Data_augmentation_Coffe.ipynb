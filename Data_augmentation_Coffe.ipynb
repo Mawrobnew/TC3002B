{
  "cells": [
    {
      "cell_type": "markdown",
      "metadata": {
        "id": "view-in-github",
        "colab_type": "text"
      },
      "source": [
        "<a href=\"https://colab.research.google.com/github/Mawrobnew/TC3002B/blob/main/Data_augmentation_Coffe.ipynb\" target=\"_parent\"><img src=\"https://colab.research.google.com/assets/colab-badge.svg\" alt=\"Open In Colab\"/></a>"
      ]
    },
    {
      "cell_type": "markdown",
      "source": [
        "# **Data augmentation coffe**\n",
        "En este proyecto, se desarrollará un modelo de red neuronal convolucional para realizar una clasificación binaria con el objetivo de distinguir entre dos tipos de café: espresso (café extraído en estado puro del grano) y longblack (café expreso mezclado con agua caliente). Para este propósito, se utilizará un dataset creado por \"Philippe - Kangaroo.AI\", que consta de 400 imágenes recortadas en una proporción de 1:1 y con un tamaño de 256x256 píxeles.\n",
        "\n",
        "Además, se usarán como referencia dos repositorios adicionales donde se ha llevado a cabo esta misma clasificación binaria utilizando el mencionado dataset, lo que proporcionará recursos valiosos para el desarrollo del proyecto."
      ],
      "metadata": {
        "id": "adA76yx2gAS3"
      }
    },
    {
      "cell_type": "code",
      "execution_count": null,
      "metadata": {
        "id": "8wJYdVsfYO4G",
        "colab": {
          "base_uri": "https://localhost:8080/"
        },
        "outputId": "b5644273-e951-4d56-b1a2-7334efb36eb2"
      },
      "outputs": [
        {
          "output_type": "stream",
          "name": "stdout",
          "text": [
            "Drive already mounted at /content/drive; to attempt to forcibly remount, call drive.mount(\"/content/drive\", force_remount=True).\n"
          ]
        }
      ],
      "source": [
        "from google.colab import drive\n",
        "drive.mount('/content/drive')\n"
      ]
    },
    {
      "cell_type": "code",
      "source": [
        "%cd \"/content/drive/MyDrive/Universidad 8vo semestre/Desarrollo de aplicaciones avanzadas de ciencias computacionales /M2/Actividad2.1\"\n",
        "!ls"
      ],
      "metadata": {
        "colab": {
          "base_uri": "https://localhost:8080/"
        },
        "id": "FtxCm5DvkYkB",
        "outputId": "5e69fe7f-fb89-481e-8199-75893f84486b"
      },
      "execution_count": null,
      "outputs": [
        {
          "output_type": "stream",
          "name": "stdout",
          "text": [
            "/content/drive/MyDrive/Universidad 8vo semestre/Desarrollo de aplicaciones avanzadas de ciencias computacionales /M2/Actividad2.1\n",
            "augmented  Data_augmentation_Coffe.ipynb  images\n"
          ]
        }
      ]
    },
    {
      "cell_type": "markdown",
      "source": [
        "# Modificaciones de imágenes\n",
        "\n",
        "ImageDataGenerator es una clase en la biblioteca Keras de Python que se utiliza para generar imágenes en tiempo real durante el entrenamiento. ImageDataGenerator permite realizar transformaciones de las imágenes de entrada para aumentar la diversidad de los datos de entrenamiento.\n",
        "\n",
        "Las transformaciones utilizadas para este proyecto fueron la reescala de los valores, rango de ángulos, rango de desplazamiento, cortes aleatorios y zoom. Esto se definió así para tener una mayor variedad en las imágenes.\n",
        "\n"
      ],
      "metadata": {
        "id": "RyRpvQCAj7aI"
      }
    },
    {
      "cell_type": "code",
      "execution_count": null,
      "metadata": {
        "id": "Z5bsMefaTK9A"
      },
      "outputs": [],
      "source": [
        "import matplotlib.pyplot as plt\n",
        "import numpy as np\n",
        "import os\n",
        "import tensorflow as tf\n",
        "from tensorflow.keras.preprocessing.image import ImageDataGenerator\n",
        "\n",
        "\n",
        "path = \"/content/drive/MyDrive/Universidad 8vo semestre/Desarrollo de aplicaciones avanzadas de ciencias computacionales /M2/Actividad2.1\"\n",
        "\n",
        "base_dir = 'images'\n",
        "train_dir = os.path.join(base_dir,'train')\n",
        "validation_dir = os.path.join(base_dir, 'validation')\n",
        "test_dir = os.path.join(base_dir, 'test')\n",
        "\n",
        "#Train\n",
        "#Modificaciones de la imagen\n",
        "#Configura el ImageDataGenerator para realizar modificaciones en las imágenes de entrnamiento.\n",
        "#Rescale: Rescala los valores de los píxeles de la imagen a un rango de 0 a 1\n",
        "#Rotation_range: Rango de ángulos en grados para rotar aleatoriamente las imágenes\n",
        "#Width/height: Rangos para desplazar aleatoriamente horizontalmente y verticalmente imágenes\n",
        "#Shear_range: Rango para aplicar cortes aleatorios a las imágenes \n",
        "#Zoom_range: Rango para aplicar zoom aleatorio a las imágenes\n",
        "#Horizontal_flip: Voltea horizontalmente aleatoriamente las imágenes\n",
        "train_datagen = ImageDataGenerator(\n",
        "\t\t\t\t\t\t\trescale = 1./255,\n",
        "\t\t\t\t\t\t\trotation_range = 40,\n",
        "\t\t\t\t\t\t\twidth_shift_range = 0.2,\n",
        "\t\t\t\t\t\t\theight_shift_range = 0.2,\n",
        "\t\t\t\t\t\t\tshear_range = 0.3,\n",
        "\t\t\t\t\t\t\tzoom_range = 0.3,\n",
        "\t\t\t\t\t\t\thorizontal_flip = True,)\n",
        "\t\t\t\t\t\t\t\n",
        "#Reescala validation\n",
        "val_datagen = ImageDataGenerator(1./255) #Rescala los valores de los píxeles para que estén en rango de 0 a 1\n"
      ]
    },
    {
      "cell_type": "code",
      "source": [
        "#Genera un train\n",
        "train_generator = train_datagen.flow_from_directory(\n",
        "\t\t\t\t\t\t\ttrain_dir, #Directorio que contiene imágenes de entrenamiento\n",
        "\t\t\t\t\t\t\ttarget_size = (150, 150), #Tamaño al que se redimensionarán todas las imágenes del entrenamiento\n",
        "\t\t\t\t\t\t\tbatch_size = 15,  #Imágenes que se cargarán en cada lote durante el entrenamiento\n",
        "\t\t\t\t\t\t\tclass_mode ='binary', #Clasificación binaria\n",
        "\t\t\t\t\t\t\t)\n"
      ],
      "metadata": {
        "colab": {
          "base_uri": "https://localhost:8080/"
        },
        "id": "cUPHWziDorDe",
        "outputId": "1dc49957-fbda-4165-ae21-f75b6ad11a97"
      },
      "execution_count": null,
      "outputs": [
        {
          "output_type": "stream",
          "name": "stdout",
          "text": [
            "Found 228 images belonging to 2 classes.\n"
          ]
        }
      ]
    },
    {
      "cell_type": "code",
      "source": [
        "#Generando tu validation\n",
        "val_generator = val_datagen.flow_from_directory( #Vas a usar para entrenat dentro del entrenamiento\n",
        "\t\t\t\t\t\t\tvalidation_dir, #Direcotio que contiene las imágenes de validación\n",
        "\t\t\t\t\t\t\ttarget_size = (150,150), #Tamaño al que se redimensionarán todas las imágenes de validación\n",
        "\t\t\t\t\t\t\tbatch_size =15,  #Imágenes que se cargarán en cada lote durante el entrenamiento\n",
        "\t\t\t\t\t\t\tclass_mode= 'binary')  #Clasificación binaria\n"
      ],
      "metadata": {
        "colab": {
          "base_uri": "https://localhost:8080/"
        },
        "id": "2FPods7_AqdZ",
        "outputId": "49f11e2d-6a95-4200-f751-5e2ad5eca52c"
      },
      "execution_count": null,
      "outputs": [
        {
          "output_type": "stream",
          "name": "stdout",
          "text": [
            "Found 70 images belonging to 2 classes.\n"
          ]
        }
      ]
    },
    {
      "cell_type": "markdown",
      "source": [
        "# Red neuronal \n"
      ],
      "metadata": {
        "id": "wMwqSHLU-eKG"
      }
    },
    {
      "cell_type": "code",
      "source": [
        "from tensorflow.keras import models\n",
        "from tensorflow.keras import layers\n",
        "from tensorflow.keras.applications import VGG16 \n",
        "from tensorflow.keras.preprocessing.image import ImageDataGenerator\n",
        "from tensorflow.keras import optimizers\n",
        "\t\t\t\t\t\t\n",
        "#Carga modelo VGG16\n",
        "#Weights='imagenet' : Carga los pesos preentrenados en conjunto de datos ImageNet\n",
        "#include_top=False : No se incluyen las capas totalmente conectadas del modelo\n",
        "#input_shape=(150,150,3): Especifica la forma de entrada de las imágenes a la red.\n",
        "conv_base= VGG16(weights='imagenet', include_top = False, input_shape = (150,150,3))\n",
        "conv_base.trainable = False ## Not trainable weights\n",
        "\n",
        "\n",
        "#Se crea un modelo secuencial (Sequential) y se agrega la base convolucional de VGG16 como una capa\n",
        "model = models.Sequential()\n",
        "model.add(conv_base)\n",
        "#Capas adicionales al modelo para adaptarlo\n",
        "model.add(layers.Flatten()) #Mapa de características a un vector unidimensional\n",
        "model.add(layers.Dense(256,activation='relu'))\n",
        "model.add(layers.Dense(1,activation='sigmoid'))\n",
        "\n",
        "\n",
        "\n",
        "model.summary()\n",
        "\n",
        "#Se compila el modelo especificando la función de pérdida, el optimizador y las métricas a utilizar. \n",
        "#En este caso, se utiliza la función de pérdida 'binary_crossentropy', el optimizador RMSprop con una tasa de aprendizaje de 2e-5 y \n",
        "#se registra la precisión ('acc') como la métrica\n",
        "model.compile(loss='binary_crossentropy',\n",
        "\t\t\t\t\t\toptimizer=optimizers.RMSprop(learning_rate=2e-5),\n",
        "\t\t\t\t\t\tmetrics=['acc'])\n"
      ],
      "metadata": {
        "colab": {
          "base_uri": "https://localhost:8080/"
        },
        "id": "-Y2957UWm1Ka",
        "outputId": "56895215-2190-46a3-f62a-a6f532b7e16c"
      },
      "execution_count": null,
      "outputs": [
        {
          "output_type": "stream",
          "name": "stdout",
          "text": [
            "Model: \"sequential_9\"\n",
            "_________________________________________________________________\n",
            " Layer (type)                Output Shape              Param #   \n",
            "=================================================================\n",
            " vgg16 (Functional)          (None, 4, 4, 512)         14714688  \n",
            "                                                                 \n",
            " flatten_9 (Flatten)         (None, 8192)              0         \n",
            "                                                                 \n",
            " dense_18 (Dense)            (None, 256)               2097408   \n",
            "                                                                 \n",
            " dense_19 (Dense)            (None, 1)                 257       \n",
            "                                                                 \n",
            "=================================================================\n",
            "Total params: 16,812,353\n",
            "Trainable params: 2,097,665\n",
            "Non-trainable params: 14,714,688\n",
            "_________________________________________________________________\n"
          ]
        }
      ]
    },
    {
      "cell_type": "code",
      "execution_count": null,
      "metadata": {
        "colab": {
          "base_uri": "https://localhost:8080/",
          "height": 1000
        },
        "id": "saHPzD9MXeF6",
        "outputId": "3e877add-c038-422d-c158-ff3677f36cfa"
      },
      "outputs": [
        {
          "output_type": "stream",
          "name": "stdout",
          "text": [
            "Epoch 1/30\n",
            "7/7 [==============================] - 41s 7s/step - loss: 0.6491 - acc: 0.6344 - val_loss: 4.6389 - val_acc: 0.5143\n",
            "Epoch 2/30\n",
            "7/7 [==============================] - 47s 7s/step - loss: 0.6297 - acc: 0.6667 - val_loss: 4.9940 - val_acc: 0.5714\n",
            "Epoch 3/30\n",
            "7/7 [==============================] - 44s 7s/step - loss: 0.5891 - acc: 0.7619 - val_loss: 5.5980 - val_acc: 0.6000\n",
            "Epoch 4/30\n",
            "7/7 [==============================] - 42s 7s/step - loss: 0.5583 - acc: 0.7527 - val_loss: 5.2833 - val_acc: 0.6000\n",
            "Epoch 5/30\n",
            "7/7 [==============================] - 47s 7s/step - loss: 0.5574 - acc: 0.7619 - val_loss: 5.9486 - val_acc: 0.6000\n",
            "Epoch 6/30\n",
            "7/7 [==============================] - 45s 7s/step - loss: 0.4913 - acc: 0.8381 - val_loss: 6.0488 - val_acc: 0.6143\n",
            "Epoch 7/30\n",
            "7/7 [==============================] - 43s 6s/step - loss: 0.5011 - acc: 0.8190 - val_loss: 8.5748 - val_acc: 0.5571\n",
            "Epoch 8/30\n",
            "7/7 [==============================] - 44s 7s/step - loss: 0.4520 - acc: 0.8925 - val_loss: 8.7160 - val_acc: 0.5857\n",
            "Epoch 9/30\n",
            "7/7 [==============================] - 52s 8s/step - loss: 0.4734 - acc: 0.8381 - val_loss: 9.2911 - val_acc: 0.5571\n",
            "Epoch 10/30\n",
            "7/7 [==============================] - 43s 7s/step - loss: 0.4327 - acc: 0.8476 - val_loss: 9.4187 - val_acc: 0.5571\n",
            "Epoch 11/30\n",
            "7/7 [==============================] - 42s 6s/step - loss: 0.4684 - acc: 0.7849 - val_loss: 7.9915 - val_acc: 0.5857\n",
            "Epoch 12/30\n",
            "7/7 [==============================] - 47s 7s/step - loss: 0.4643 - acc: 0.8095 - val_loss: 8.5442 - val_acc: 0.5857\n",
            "Epoch 13/30\n",
            "7/7 [==============================] - 46s 7s/step - loss: 0.4290 - acc: 0.8495 - val_loss: 9.1196 - val_acc: 0.5714\n",
            "Epoch 14/30\n",
            "7/7 [==============================] - 44s 7s/step - loss: 0.4061 - acc: 0.8710 - val_loss: 8.0874 - val_acc: 0.6143\n",
            "Epoch 15/30\n",
            "7/7 [==============================] - 47s 7s/step - loss: 0.3784 - acc: 0.8476 - val_loss: 8.0387 - val_acc: 0.6429\n",
            "Epoch 16/30\n",
            "7/7 [==============================] - 45s 7s/step - loss: 0.3790 - acc: 0.8571 - val_loss: 9.3841 - val_acc: 0.5857\n",
            "Epoch 17/30\n",
            "7/7 [==============================] - 43s 7s/step - loss: 0.4032 - acc: 0.8286 - val_loss: 7.7374 - val_acc: 0.6429\n",
            "Epoch 18/30\n",
            "7/7 [==============================] - 42s 7s/step - loss: 0.3921 - acc: 0.8710 - val_loss: 8.9860 - val_acc: 0.6429\n",
            "Epoch 19/30\n",
            "7/7 [==============================] - 43s 7s/step - loss: 0.3468 - acc: 0.8817 - val_loss: 8.6285 - val_acc: 0.6429\n",
            "Epoch 20/30\n",
            "7/7 [==============================] - 45s 7s/step - loss: 0.3298 - acc: 0.8952 - val_loss: 8.3946 - val_acc: 0.6429\n",
            "Epoch 21/30\n",
            "7/7 [==============================] - 46s 7s/step - loss: 0.3464 - acc: 0.8952 - val_loss: 8.5430 - val_acc: 0.6429\n",
            "Epoch 22/30\n",
            "7/7 [==============================] - 46s 7s/step - loss: 0.2973 - acc: 0.9355 - val_loss: 8.7357 - val_acc: 0.6571\n",
            "Epoch 23/30\n",
            "7/7 [==============================] - 43s 7s/step - loss: 0.3364 - acc: 0.8857 - val_loss: 9.8500 - val_acc: 0.6571\n",
            "Epoch 24/30\n",
            "7/7 [==============================] - 46s 7s/step - loss: 0.2600 - acc: 0.9355 - val_loss: 10.6421 - val_acc: 0.6286\n",
            "Epoch 25/30\n",
            "7/7 [==============================] - 47s 7s/step - loss: 0.3191 - acc: 0.8857 - val_loss: 9.7853 - val_acc: 0.6571\n",
            "Epoch 26/30\n",
            "7/7 [==============================] - 47s 7s/step - loss: 0.2437 - acc: 0.9524 - val_loss: 10.0897 - val_acc: 0.6571\n",
            "Epoch 27/30\n",
            "7/7 [==============================] - 41s 7s/step - loss: 0.2718 - acc: 0.9247 - val_loss: 9.6650 - val_acc: 0.6571\n",
            "Epoch 28/30\n",
            "7/7 [==============================] - 44s 7s/step - loss: 0.2995 - acc: 0.9140 - val_loss: 9.2772 - val_acc: 0.6429\n",
            "Epoch 29/30\n",
            "7/7 [==============================] - 47s 7s/step - loss: 0.3099 - acc: 0.8667 - val_loss: 10.0262 - val_acc: 0.6286\n",
            "Epoch 30/30\n",
            "7/7 [==============================] - 47s 7s/step - loss: 0.2610 - acc: 0.9143 - val_loss: 11.3764 - val_acc: 0.6000\n"
          ]
        },
        {
          "output_type": "display_data",
          "data": {
            "text/plain": [
              "<Figure size 640x480 with 1 Axes>"
            ],
            "image/png": "[encoded data removed]"
          },
          "metadata": {}
        },
        {
          "output_type": "display_data",
          "data": {
            "text/plain": [
              "<Figure size 640x480 with 1 Axes>"
            ],
            "image/png": "[encoded data removed]"
          },
          "metadata": {}
        }
      ],
      "source": [
        "#El modelo se entrena utilizando los generadores de datos 'train_generator' y 'val_generator' \n",
        "#Aquí internamente dentro del mismo método de entrenamiento ambas pruebas. Estás ejecutando el train y el validation\n",
        "\n",
        "#método fit del modelo para iniciar el entrenamiento\n",
        "history = model.fit(\n",
        "\t\t\t\ttrain_generator,\n",
        "\t\t\t\tsteps_per_epoch =7,   #Número de pasos (batches) a considerar en cada época de entrenamiento. \n",
        "\t\t\t\tepochs =30, \n",
        "\t\t\t\tvalidation_data= val_generator, \n",
        "\t\t\t\tvalidation_steps = 5  #El número de pasos (batches) a considerar en cada época de validación.\n",
        "\t\t\t\t)\n",
        "\t\t\t\t\n",
        "#Métricas de precisión\n",
        "acc = history.history['acc']\n",
        "loss = history.history['loss']\n",
        "\n",
        "epochs = range(1, len(acc)+1)\n",
        "\n",
        "plt.plot(epochs,acc,'bo',label='train accuracy')\n",
        "plt.title('train acc')\n",
        "plt.legend()\n",
        "\n",
        "plt.figure()\n",
        "\n",
        "plt.plot(epochs,loss, 'bo', label ='training loss')\n",
        "plt.title('train loss')\n",
        "plt.legend()\n",
        "\n",
        "plt.show()"
      ]
    },
    {
      "cell_type": "code",
      "execution_count": null,
      "metadata": {
        "colab": {
          "base_uri": "https://localhost:8080/"
        },
        "id": "hSHeXVn246UW",
        "outputId": "7adc4fd7-4038-4681-b3ca-939cea703ce6"
      },
      "outputs": [
        {
          "output_type": "stream",
          "name": "stdout",
          "text": [
            "Found 44 images belonging to 2 classes.\n",
            " 1/20 [>.............................] - ETA: 3:13 - loss: 8.4985 - acc: 0.6591"
          ]
        },
        {
          "output_type": "stream",
          "name": "stderr",
          "text": [
            "WARNING:tensorflow:Your input ran out of data; interrupting training. Make sure that your dataset or generator can generate at least `steps_per_epoch * epochs` batches (in this case, 20 batches). You may need to use the repeat() function when building your dataset.\n"
          ]
        },
        {
          "output_type": "stream",
          "name": "stdout",
          "text": [
            "\b\b\b\b\b\b\b\b\b\b\b\b\b\b\b\b\b\b\b\b\b\b\b\b\b\b\b\b\b\b\b\b\b\b\b\b\b\b\b\b\b\b\b\b\b\b\b\b\b\b\b\b\b\b\b\b\b\b\b\b\b\b\b\b\b\b\b\b\b\b\b\b\b\b\b\b\b\b\b\r20/20 [==============================] - 10s 2ms/step - loss: 8.4985 - acc: 0.6591\n",
            "\n",
            "test acc :\n",
            " 0.6590909361839294\n"
          ]
        }
      ],
      "source": [
        "#Evaluación del modelo utilizando un conjunto de datos de prueba\n",
        "test_datagen = ImageDataGenerator(1./255) #Reescala\n",
        "test_generator = test_datagen.flow_from_directory(\n",
        "\t\t\t\t\ttest_dir, #Directorio que contiene imágenes de prueba\n",
        "\t\t\t\t\ttarget_size = (150, 150), #Tamaño al que se redimensionarán\n",
        "\t\t\t\t\tbatch_size = 44, #El número de imágenes que se cargarán en cada lote durante la evaluación.\n",
        "\t\t\t\t\tclass_mode= 'binary')#Clase binaria\n",
        "\n",
        "#Método evaluate del modelo para evaluar el rendimiento en los datos de prueba\n",
        "test_loss, test_acc = model.evaluate(test_generator, steps = 20)\n",
        "print('\\ntest acc :\\n', test_acc)\n"
      ]
    },
    {
      "cell_type": "markdown",
      "source": [
        "# Matriz de confusión"
      ],
      "metadata": {
        "id": "G6P9MWoRCbqb"
      }
    },
    {
      "cell_type": "code",
      "source": [
        "from sklearn.metrics import confusion_matrix\n",
        "#Matriz de confusión\n",
        "test_imgs = test_generator[0][0] #Predicciones\n",
        "test_labels = test_generator[0][1] # Etiquetas \n",
        "\n",
        "#Obteniendo la predicción \n",
        "predictions = model.predict(test_imgs) # Devuelve la etiqueta aprendida para cada objeto en la matriz\n",
        "\n",
        "\n",
        "classes_x = np.argmax(predictions,axis=1) # Se generan los resultados\n",
        "classes_x\n",
        "\n",
        "#Obtención de matriz de confusión\n",
        "                #True Label #Prediction\n",
        "confusion_matrix(classes_x, test_labels)"
      ],
      "metadata": {
        "id": "9EBKQTCrCY4H",
        "colab": {
          "base_uri": "https://localhost:8080/"
        },
        "outputId": "467f8154-01be-4da2-bdf7-f551673bb238"
      },
      "execution_count": null,
      "outputs": [
        {
          "output_type": "stream",
          "name": "stdout",
          "text": [
            "2/2 [==============================] - 13s 5s/step\n"
          ]
        },
        {
          "output_type": "execute_result",
          "data": {
            "text/plain": [
              "array([[22, 22],\n",
              "       [ 0,  0]])"
            ]
          },
          "metadata": {},
          "execution_count": 90
        }
      ]
    },
    {
      "cell_type": "markdown",
      "source": [
        "# **¿Overfitting o Underfitting?**\n",
        "\n",
        "Con base a los resultados anteriores, se puede deducir que el modelo está experimentando un comportamiento underfitting. El underfitting hace referencia a un modelo que no es capaz de encontrar de manera adecuada patrones durante el entrenamiento.\n",
        "\n",
        "En comparación con el escrito \"Espresso or Longblack?\" el cual determina una cantidad de 10 número de épocas, 0.2 en validation_split y 32 en batch_size, los resultados que el autor obtuvo fueron los siguientes:\n",
        "-acc:  1.0000\n",
        "-loss: 4.8041e-04 \n",
        "-val_acc:0.9833 \n",
        "-val_loss:  0.0257\n",
        "\n",
        "En contraste con el modelo desarrollado, este solamente alcanza una cantidad de  0.65, lo que quiere decir que solamente será capaz de clasificar correctamente poco más del 50% de las imágenes, por lo que se puede concluir que el modelo es demasiado simple para abarcar la problemática de identificación de un expresso y un longblack. Sin embargo, algunas estrategias que se pueden seguir para mitigar esta situación son el aumento de cantidad de datos de entrenamiento,verificación de la calidad de la información o inclusive desarrollar un modelo más complejo. \n",
        "\n",
        "\n"
      ],
      "metadata": {
        "id": "-okoJZ0_la4F"
      }
    },
    {
      "cell_type": "markdown",
      "source": [
        "# Referencias\n",
        "Referencias:\n",
        "PHILIPPE. (2021). Coffee images. Kaggle: Your Machine Learning and Data Science Community. https://www.kaggle.com/datasets/filhypedeeplearning/coffee-images\n",
        "\n",
        "stpeteishii. (2021, 16 de noviembre). Coffee Images Classify Torch Conv2d. Kaggle: Your Machine Learning and Data Science Community. https://www.kaggle.com/code/stpeteishii/coffee-images-classify-torch-conv2d\n",
        "\n",
        "filhypedeeplearning. (2021, 24 de noviembre). Espresso or Longblack? Kaggle: Your Machine Learning and Data Science Community. https://www.kaggle.com/code/filhypedeeplearning/espresso-or-longblack/input"
      ],
      "metadata": {
        "id": "WuD8vYAlkirk"
      }
    }
  ],
  "metadata": {
    "colab": {
      "provenance": [],
      "include_colab_link": true
    },
    "kernelspec": {
      "display_name": "Python 3",
      "name": "python3"
    },
    "language_info": {
      "name": "python"
    }
  },
  "nbformat": 4,
  "nbformat_minor": 0
}